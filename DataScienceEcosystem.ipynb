{
 "cells": [
  {
   "cell_type": "markdown",
   "id": "34cfa40e",
   "metadata": {},
   "source": [
    "# Data Science Tools and Ecosystem"
   ]
  },
  {
   "cell_type": "markdown",
   "id": "8374d1a6",
   "metadata": {},
   "source": [
    "## In this notebook, Data Science Tools and Ecosystem are summarized."
   ]
  },
  {
   "cell_type": "markdown",
   "id": "f07d73a5",
   "metadata": {},
   "source": [
    "### Some of the popular languages that Data Scientists use are:\n",
    "1. Python\n",
    "2. Ruby\n",
    "3. R"
   ]
  },
  {
   "cell_type": "markdown",
   "id": "bbe1c2c5",
   "metadata": {},
   "source": [
    "### Some of the commonly used libraries used by Data Scientists include:\n",
    "1. TensorFlow\n",
    "2. Numpy\n",
    "3. Pandas"
   ]
  },
  {
   "cell_type": "markdown",
   "id": "3f034870",
   "metadata": {},
   "source": [
    "| Data Science Tools         |\n",
    "|----------------------------|\n",
    "| Jupyter Notebook           |\n",
    "| RStudio                    |\n",
    "| VS Code                    |\n"
   ]
  },
  {
   "cell_type": "markdown",
   "id": "02971f35",
   "metadata": {},
   "source": [
    "### Below are a few examples of evaluating arithmetic expressions in Python"
   ]
  },
  {
   "cell_type": "code",
   "execution_count": 1,
   "id": "27e19877",
   "metadata": {},
   "outputs": [
    {
     "data": {
      "text/plain": [
       "17"
      ]
     },
     "execution_count": 1,
     "metadata": {},
     "output_type": "execute_result"
    }
   ],
   "source": [
    "#This a simple arithmetic expression to mutiply then add integers\n",
    "(3*4)+5"
   ]
  },
  {
   "cell_type": "code",
   "execution_count": 2,
   "id": "14baf827",
   "metadata": {},
   "outputs": [
    {
     "data": {
      "text/plain": [
       "3.3333333333333335"
      ]
     },
     "execution_count": 2,
     "metadata": {},
     "output_type": "execute_result"
    }
   ],
   "source": [
    "#This will convert 200 minutes to hours by diving by 60\n",
    "200/60"
   ]
  },
  {
   "cell_type": "markdown",
   "id": "0cb2f83a",
   "metadata": {},
   "source": [
    "**Objectives:**\n",
    "- List popular languages for Data Science\n",
    "- Creating Data Visualizations using ggplot\n",
    "- Plotting in Rstudio\n",
    "- Working with datasets and models\n",
    "- Working with Jupyter notebooks and JupyterLab\n"
   ]
  },
  {
   "cell_type": "markdown",
   "id": "4370a044",
   "metadata": {},
   "source": [
    "## Author\n",
    "Bore Phodiso Tumelo Mere"
   ]
  },
  {
   "cell_type": "code",
   "execution_count": null,
   "id": "5f02d0d8",
   "metadata": {},
   "outputs": [],
   "source": []
  }
 ],
 "metadata": {
  "kernelspec": {
   "display_name": "Python 3 (ipykernel)",
   "language": "python",
   "name": "python3"
  },
  "language_info": {
   "codemirror_mode": {
    "name": "ipython",
    "version": 3
   },
   "file_extension": ".py",
   "mimetype": "text/x-python",
   "name": "python",
   "nbconvert_exporter": "python",
   "pygments_lexer": "ipython3",
   "version": "3.9.13"
  }
 },
 "nbformat": 4,
 "nbformat_minor": 5
}
